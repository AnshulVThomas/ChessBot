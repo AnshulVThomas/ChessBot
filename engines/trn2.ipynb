{
 "cells": [
  {
   "cell_type": "code",
   "execution_count": 1,
   "id": "39446a73",
   "metadata": {},
   "outputs": [],
   "source": [
    "import os\n",
    "import numpy as np\n",
    "import time\n",
    "import torch\n",
    "import torch.nn as nn\n",
    "import torch.optim as optim\n",
    "from torch.utils.data import DataLoader\n",
    "from chess import pgn\n",
    "from tqdm import tqdm\n",
    "from auxilary_function import create_input_for_nn,encode_moves\n",
    "from dataset import ChessDataset\n",
    "from model import ChessModel"
   ]
  },
  {
   "cell_type": "code",
   "execution_count": null,
   "id": "5c4a2459",
   "metadata": {},
   "outputs": [],
   "source": [
    "def train(x,y,num_classes):\n",
    "\n",
    "    dataset=ChessDataset(x,y)\n",
    "    dataLoader=DataLoader(dataset,batch_size=64,shuffle=True)\n",
    "\n",
    "    device=torch.device('cuda' if torch.cuda.is_available() else 'cpu')\n",
    "    print(f\"Using devices: {device}\")\n",
    "\n",
    "    global model\n",
    "    if(model is None):\n",
    "        model= ChessModel(num_classes=num_classes).to(device)\n",
    "        print(\"\\n-->model created<--\\n\")\n",
    "    criterion=nn.CrossEntropyLoss()\n",
    "    optimizer=optim.Adam(model.parameters(),lr=0.0001)\n",
    "\n",
    "    num_epochs=35\n",
    "    for epoch in range(num_epochs):\n",
    "        start_time=time.time()\n",
    "        model.train()\n",
    "        running_loss=0.0\n",
    "        for inputs,labels in tqdm(dataLoader):\n",
    "            inputs,labels=inputs.to(device),labels.to(device)\n",
    "            optimizer.zero_grad()\n",
    "\n",
    "            outputs=model(inputs)\n",
    "            loss=criterion(outputs,labels)\n",
    "            loss.backward()\n",
    "\n",
    "            torch.nn.utils.clip_grad_norm_(model.parameters(),max_norm=1.0)\n",
    "            optimizer.step()\n",
    "            running_loss+=loss.item()\n",
    "        end_time=time.time()\n",
    "        epoch_time=end_time-start_time\n",
    "        minutes: int = int(epoch_time// 60)\n",
    "        seconds: int = int(epoch_time)-minutes*60\n",
    "        print(f'Epoch {epoch+1+50}/{num_epochs+1+50}, Loss: {running_loss/len(dataLoader):.4f}, Time: {minutes},{seconds}s')\n",
    "        "
   ]
  },
  {
   "cell_type": "code",
   "execution_count": 3,
   "id": "7a938190",
   "metadata": {},
   "outputs": [],
   "source": [
    "def doit(games):\n",
    "    print(len(games))\n",
    "\n",
    "    x,y=create_input_for_nn(games)\n",
    "    print(f\"number of samples: {len(y)}\")\n",
    "\n",
    "    x=x[0:2500000]\n",
    "    y=y[0:2500000]\n",
    "\n",
    "    y,move_to_int=encode_moves(y)\n",
    "    num_classes=len(move_to_int)\n",
    "\n",
    "    x=torch.tensor(x,dtype=torch.float32)\n",
    "    y=torch.tensor(y,dtype=torch.long)\n",
    "\n",
    "    train(x,y,num_classes)\n",
    "\n",
    "\n",
    "\n",
    "\n",
    "    \n",
    "\n"
   ]
  },
  {
   "cell_type": "code",
   "execution_count": null,
   "id": "0dc4abb0",
   "metadata": {},
   "outputs": [
    {
     "name": "stderr",
     "output_type": "stream",
     "text": [
      "  0%|          | 0/79 [00:00<?, ?it/s]"
     ]
    },
    {
     "name": "stdout",
     "output_type": "stream",
     "text": [
      "10---../Data/pgn/lichess_elite_2013-09.pgn\n",
      "Total games --> 0\n",
      "4---../Data/pgn/lichess_elite_2013-11.pgn\n",
      "Total games --> 0\n",
      "3---../Data/pgn/lichess_elite_2014-01.pgn\n",
      "Total games --> 0\n",
      "23---../Data/pgn/lichess_elite_2014-02.pgn\n",
      "Total games --> 0\n",
      "5---../Data/pgn/lichess_elite_2014-03.pgn\n",
      "Total games --> 0\n",
      "7---../Data/pgn/lichess_elite_2014-04.pgn\n",
      "Total games --> 0\n"
     ]
    },
    {
     "name": "stderr",
     "output_type": "stream",
     "text": [
      "  9%|▉         | 7/79 [00:00<00:04, 14.54it/s]"
     ]
    },
    {
     "name": "stdout",
     "output_type": "stream",
     "text": [
      "264---../Data/pgn/lichess_elite_2014-05.pgn\n",
      "Total games --> 0\n",
      "140---../Data/pgn/lichess_elite_2014-06.pgn\n",
      "Total games --> 0\n"
     ]
    },
    {
     "name": "stderr",
     "output_type": "stream",
     "text": [
      " 13%|█▎        | 10/79 [00:01<00:08,  7.91it/s]"
     ]
    },
    {
     "name": "stdout",
     "output_type": "stream",
     "text": [
      "92---../Data/pgn/lichess_elite_2014-07.pgn\n",
      "Total games --> 0\n",
      "138---../Data/pgn/lichess_elite_2014-08.pgn\n",
      "Total games --> 0\n"
     ]
    },
    {
     "name": "stderr",
     "output_type": "stream",
     "text": [
      " 14%|█▍        | 11/79 [00:01<00:10,  6.49it/s]"
     ]
    },
    {
     "name": "stdout",
     "output_type": "stream",
     "text": [
      "207---../Data/pgn/lichess_elite_2014-09.pgn\n",
      "Total games --> 0\n"
     ]
    },
    {
     "name": "stderr",
     "output_type": "stream",
     "text": [
      " 15%|█▌        | 12/79 [00:02<00:18,  3.65it/s]"
     ]
    },
    {
     "name": "stdout",
     "output_type": "stream",
     "text": [
      "448---../Data/pgn/lichess_elite_2014-10.pgn\n",
      "Total games --> 0\n"
     ]
    },
    {
     "name": "stderr",
     "output_type": "stream",
     "text": [
      " 16%|█▋        | 13/79 [00:02<00:18,  3.48it/s]"
     ]
    },
    {
     "name": "stdout",
     "output_type": "stream",
     "text": [
      "238---../Data/pgn/lichess_elite_2014-11.pgn\n",
      "Total games --> 0\n"
     ]
    },
    {
     "name": "stderr",
     "output_type": "stream",
     "text": [
      " 18%|█▊        | 14/79 [00:03<00:29,  2.22it/s]"
     ]
    },
    {
     "name": "stdout",
     "output_type": "stream",
     "text": [
      "539---../Data/pgn/lichess_elite_2014-12.pgn\n",
      "Total games --> 0\n"
     ]
    },
    {
     "name": "stderr",
     "output_type": "stream",
     "text": [
      " 19%|█▉        | 15/79 [00:04<00:32,  1.97it/s]"
     ]
    },
    {
     "name": "stdout",
     "output_type": "stream",
     "text": [
      "464---../Data/pgn/lichess_elite_2015-01.pgn\n",
      "Total games --> 0\n"
     ]
    },
    {
     "name": "stderr",
     "output_type": "stream",
     "text": [
      " 20%|██        | 16/79 [00:05<00:43,  1.43it/s]"
     ]
    },
    {
     "name": "stdout",
     "output_type": "stream",
     "text": [
      "774---../Data/pgn/lichess_elite_2015-02.pgn\n",
      "Total games --> 0\n"
     ]
    },
    {
     "name": "stderr",
     "output_type": "stream",
     "text": [
      " 22%|██▏       | 17/79 [00:06<00:52,  1.18it/s]"
     ]
    },
    {
     "name": "stdout",
     "output_type": "stream",
     "text": [
      "741---../Data/pgn/lichess_elite_2015-03.pgn\n",
      "Total games --> 0\n"
     ]
    },
    {
     "name": "stderr",
     "output_type": "stream",
     "text": [
      " 23%|██▎       | 18/79 [00:07<00:50,  1.20it/s]"
     ]
    },
    {
     "name": "stdout",
     "output_type": "stream",
     "text": [
      "580---../Data/pgn/lichess_elite_2015-04.pgn\n",
      "Total games --> 0\n"
     ]
    },
    {
     "name": "stderr",
     "output_type": "stream",
     "text": [
      " 24%|██▍       | 19/79 [00:08<00:54,  1.10it/s]"
     ]
    },
    {
     "name": "stdout",
     "output_type": "stream",
     "text": [
      "639---../Data/pgn/lichess_elite_2015-05.pgn\n",
      "Total games --> 0\n"
     ]
    },
    {
     "name": "stderr",
     "output_type": "stream",
     "text": [
      " 25%|██▌       | 20/79 [00:08<00:46,  1.28it/s]"
     ]
    },
    {
     "name": "stdout",
     "output_type": "stream",
     "text": [
      "351---../Data/pgn/lichess_elite_2015-06.pgn\n",
      "Total games --> 0\n"
     ]
    },
    {
     "name": "stderr",
     "output_type": "stream",
     "text": [
      " 27%|██▋       | 21/79 [00:09<00:43,  1.35it/s]"
     ]
    },
    {
     "name": "stdout",
     "output_type": "stream",
     "text": [
      "478---../Data/pgn/lichess_elite_2015-07.pgn\n",
      "Total games --> 0\n"
     ]
    },
    {
     "name": "stderr",
     "output_type": "stream",
     "text": [
      " 28%|██▊       | 22/79 [00:10<00:53,  1.06it/s]"
     ]
    },
    {
     "name": "stdout",
     "output_type": "stream",
     "text": [
      "869---../Data/pgn/lichess_elite_2015-08.pgn\n",
      "Total games --> 0\n"
     ]
    },
    {
     "name": "stderr",
     "output_type": "stream",
     "text": [
      " 29%|██▉       | 23/79 [00:13<01:19,  1.43s/it]"
     ]
    },
    {
     "name": "stdout",
     "output_type": "stream",
     "text": [
      "1750---../Data/pgn/lichess_elite_2015-09.pgn\n",
      "Total games --> 0\n",
      "1236---../Data/pgn/lichess_elite_2015-10.pgn\n",
      "10000\n",
      "number of samples: 821407\n",
      "Using devices: cuda\n",
      "\n",
      "-->model created<--\n",
      "\n"
     ]
    },
    {
     "name": "stderr",
     "output_type": "stream",
     "text": [
      "100%|██████████| 12835/12835 [00:54<00:00, 236.34it/s]\n"
     ]
    },
    {
     "name": "stdout",
     "output_type": "stream",
     "text": [
      "Epoch 51/86, Loss: 4.4053, Time: 0,54s\n"
     ]
    },
    {
     "name": "stderr",
     "output_type": "stream",
     "text": [
      "100%|██████████| 12835/12835 [00:55<00:00, 233.13it/s]\n"
     ]
    },
    {
     "name": "stdout",
     "output_type": "stream",
     "text": [
      "Epoch 52/86, Loss: 3.2846, Time: 0,55s\n"
     ]
    },
    {
     "name": "stderr",
     "output_type": "stream",
     "text": [
      "100%|██████████| 12835/12835 [00:55<00:00, 232.43it/s]\n"
     ]
    },
    {
     "name": "stdout",
     "output_type": "stream",
     "text": [
      "Epoch 53/86, Loss: 2.9057, Time: 0,55s\n"
     ]
    },
    {
     "name": "stderr",
     "output_type": "stream",
     "text": [
      "100%|██████████| 12835/12835 [00:55<00:00, 230.75it/s]\n"
     ]
    },
    {
     "name": "stdout",
     "output_type": "stream",
     "text": [
      "Epoch 54/86, Loss: 2.6796, Time: 0,55s\n"
     ]
    },
    {
     "name": "stderr",
     "output_type": "stream",
     "text": [
      "100%|██████████| 12835/12835 [00:54<00:00, 235.92it/s]\n"
     ]
    },
    {
     "name": "stdout",
     "output_type": "stream",
     "text": [
      "Epoch 55/86, Loss: 2.5216, Time: 0,54s\n"
     ]
    },
    {
     "name": "stderr",
     "output_type": "stream",
     "text": [
      "100%|██████████| 12835/12835 [00:54<00:00, 235.97it/s]\n"
     ]
    },
    {
     "name": "stdout",
     "output_type": "stream",
     "text": [
      "Epoch 56/86, Loss: 2.3953, Time: 0,54s\n"
     ]
    },
    {
     "name": "stderr",
     "output_type": "stream",
     "text": [
      "100%|██████████| 12835/12835 [00:54<00:00, 234.71it/s]\n"
     ]
    },
    {
     "name": "stdout",
     "output_type": "stream",
     "text": [
      "Epoch 57/86, Loss: 2.2899, Time: 0,54s\n"
     ]
    },
    {
     "name": "stderr",
     "output_type": "stream",
     "text": [
      "100%|██████████| 12835/12835 [00:54<00:00, 237.12it/s]\n"
     ]
    },
    {
     "name": "stdout",
     "output_type": "stream",
     "text": [
      "Epoch 58/86, Loss: 2.1965, Time: 0,54s\n"
     ]
    },
    {
     "name": "stderr",
     "output_type": "stream",
     "text": [
      "100%|██████████| 12835/12835 [00:54<00:00, 237.68it/s]\n"
     ]
    },
    {
     "name": "stdout",
     "output_type": "stream",
     "text": [
      "Epoch 59/86, Loss: 2.1136, Time: 0,54s\n"
     ]
    },
    {
     "name": "stderr",
     "output_type": "stream",
     "text": [
      "100%|██████████| 12835/12835 [00:54<00:00, 236.30it/s]\n"
     ]
    },
    {
     "name": "stdout",
     "output_type": "stream",
     "text": [
      "Epoch 60/86, Loss: 2.0364, Time: 0,54s\n"
     ]
    },
    {
     "name": "stderr",
     "output_type": "stream",
     "text": [
      "100%|██████████| 12835/12835 [00:54<00:00, 236.49it/s]\n"
     ]
    },
    {
     "name": "stdout",
     "output_type": "stream",
     "text": [
      "Epoch 61/86, Loss: 1.9673, Time: 0,54s\n"
     ]
    },
    {
     "name": "stderr",
     "output_type": "stream",
     "text": [
      "100%|██████████| 12835/12835 [00:54<00:00, 236.91it/s]\n"
     ]
    },
    {
     "name": "stdout",
     "output_type": "stream",
     "text": [
      "Epoch 62/86, Loss: 1.9022, Time: 0,54s\n"
     ]
    },
    {
     "name": "stderr",
     "output_type": "stream",
     "text": [
      "100%|██████████| 12835/12835 [00:54<00:00, 237.02it/s]\n"
     ]
    },
    {
     "name": "stdout",
     "output_type": "stream",
     "text": [
      "Epoch 63/86, Loss: 1.8421, Time: 0,54s\n"
     ]
    },
    {
     "name": "stderr",
     "output_type": "stream",
     "text": [
      "100%|██████████| 12835/12835 [00:54<00:00, 236.75it/s]\n"
     ]
    },
    {
     "name": "stdout",
     "output_type": "stream",
     "text": [
      "Epoch 64/86, Loss: 1.7858, Time: 0,54s\n"
     ]
    },
    {
     "name": "stderr",
     "output_type": "stream",
     "text": [
      "100%|██████████| 12835/12835 [00:54<00:00, 234.31it/s]\n"
     ]
    },
    {
     "name": "stdout",
     "output_type": "stream",
     "text": [
      "Epoch 65/86, Loss: 1.7324, Time: 0,54s\n"
     ]
    },
    {
     "name": "stderr",
     "output_type": "stream",
     "text": [
      "100%|██████████| 12835/12835 [00:54<00:00, 236.31it/s]\n"
     ]
    },
    {
     "name": "stdout",
     "output_type": "stream",
     "text": [
      "Epoch 66/86, Loss: 1.6823, Time: 0,54s\n"
     ]
    },
    {
     "name": "stderr",
     "output_type": "stream",
     "text": [
      "100%|██████████| 12835/12835 [00:54<00:00, 236.43it/s]\n"
     ]
    },
    {
     "name": "stdout",
     "output_type": "stream",
     "text": [
      "Epoch 67/86, Loss: 1.6351, Time: 0,54s\n"
     ]
    },
    {
     "name": "stderr",
     "output_type": "stream",
     "text": [
      "100%|██████████| 12835/12835 [00:54<00:00, 237.09it/s]\n"
     ]
    },
    {
     "name": "stdout",
     "output_type": "stream",
     "text": [
      "Epoch 68/86, Loss: 1.5903, Time: 0,54s\n"
     ]
    },
    {
     "name": "stderr",
     "output_type": "stream",
     "text": [
      "100%|██████████| 12835/12835 [00:54<00:00, 236.78it/s]\n"
     ]
    },
    {
     "name": "stdout",
     "output_type": "stream",
     "text": [
      "Epoch 69/86, Loss: 1.5474, Time: 0,54s\n"
     ]
    },
    {
     "name": "stderr",
     "output_type": "stream",
     "text": [
      "100%|██████████| 12835/12835 [00:54<00:00, 236.49it/s]\n"
     ]
    },
    {
     "name": "stdout",
     "output_type": "stream",
     "text": [
      "Epoch 70/86, Loss: 1.5064, Time: 0,54s\n"
     ]
    },
    {
     "name": "stderr",
     "output_type": "stream",
     "text": [
      "100%|██████████| 12835/12835 [00:54<00:00, 236.58it/s]\n"
     ]
    },
    {
     "name": "stdout",
     "output_type": "stream",
     "text": [
      "Epoch 71/86, Loss: 1.4680, Time: 0,54s\n"
     ]
    },
    {
     "name": "stderr",
     "output_type": "stream",
     "text": [
      "100%|██████████| 12835/12835 [00:54<00:00, 236.96it/s]\n"
     ]
    },
    {
     "name": "stdout",
     "output_type": "stream",
     "text": [
      "Epoch 72/86, Loss: 1.4305, Time: 0,54s\n"
     ]
    },
    {
     "name": "stderr",
     "output_type": "stream",
     "text": [
      "100%|██████████| 12835/12835 [00:54<00:00, 237.07it/s]\n"
     ]
    },
    {
     "name": "stdout",
     "output_type": "stream",
     "text": [
      "Epoch 73/86, Loss: 1.3949, Time: 0,54s\n"
     ]
    },
    {
     "name": "stderr",
     "output_type": "stream",
     "text": [
      "100%|██████████| 12835/12835 [00:54<00:00, 237.40it/s]\n"
     ]
    },
    {
     "name": "stdout",
     "output_type": "stream",
     "text": [
      "Epoch 74/86, Loss: 1.3615, Time: 0,54s\n"
     ]
    },
    {
     "name": "stderr",
     "output_type": "stream",
     "text": [
      "100%|██████████| 12835/12835 [00:54<00:00, 236.74it/s]\n"
     ]
    },
    {
     "name": "stdout",
     "output_type": "stream",
     "text": [
      "Epoch 75/86, Loss: 1.3292, Time: 0,54s\n"
     ]
    },
    {
     "name": "stderr",
     "output_type": "stream",
     "text": [
      "100%|██████████| 12835/12835 [00:54<00:00, 236.95it/s]\n"
     ]
    },
    {
     "name": "stdout",
     "output_type": "stream",
     "text": [
      "Epoch 76/86, Loss: 1.2984, Time: 0,54s\n"
     ]
    },
    {
     "name": "stderr",
     "output_type": "stream",
     "text": [
      "100%|██████████| 12835/12835 [00:54<00:00, 237.52it/s]\n"
     ]
    },
    {
     "name": "stdout",
     "output_type": "stream",
     "text": [
      "Epoch 77/86, Loss: 1.2691, Time: 0,54s\n"
     ]
    },
    {
     "name": "stderr",
     "output_type": "stream",
     "text": [
      "100%|██████████| 12835/12835 [00:53<00:00, 238.12it/s]\n"
     ]
    },
    {
     "name": "stdout",
     "output_type": "stream",
     "text": [
      "Epoch 78/86, Loss: 1.2397, Time: 0,53s\n"
     ]
    },
    {
     "name": "stderr",
     "output_type": "stream",
     "text": [
      "100%|██████████| 12835/12835 [00:54<00:00, 237.23it/s]\n"
     ]
    },
    {
     "name": "stdout",
     "output_type": "stream",
     "text": [
      "Epoch 79/86, Loss: 1.2121, Time: 0,54s\n"
     ]
    },
    {
     "name": "stderr",
     "output_type": "stream",
     "text": [
      "100%|██████████| 12835/12835 [00:54<00:00, 236.93it/s]\n"
     ]
    },
    {
     "name": "stdout",
     "output_type": "stream",
     "text": [
      "Epoch 80/86, Loss: 1.1865, Time: 0,54s\n"
     ]
    },
    {
     "name": "stderr",
     "output_type": "stream",
     "text": [
      "100%|██████████| 12835/12835 [00:54<00:00, 237.00it/s]\n"
     ]
    },
    {
     "name": "stdout",
     "output_type": "stream",
     "text": [
      "Epoch 81/86, Loss: 1.1605, Time: 0,54s\n"
     ]
    },
    {
     "name": "stderr",
     "output_type": "stream",
     "text": [
      "100%|██████████| 12835/12835 [00:54<00:00, 236.89it/s]\n"
     ]
    },
    {
     "name": "stdout",
     "output_type": "stream",
     "text": [
      "Epoch 82/86, Loss: 1.1367, Time: 0,54s\n"
     ]
    },
    {
     "name": "stderr",
     "output_type": "stream",
     "text": [
      "100%|██████████| 12835/12835 [00:54<00:00, 236.95it/s]\n"
     ]
    },
    {
     "name": "stdout",
     "output_type": "stream",
     "text": [
      "Epoch 83/86, Loss: 1.1125, Time: 0,54s\n"
     ]
    },
    {
     "name": "stderr",
     "output_type": "stream",
     "text": [
      "100%|██████████| 12835/12835 [00:54<00:00, 237.05it/s]\n"
     ]
    },
    {
     "name": "stdout",
     "output_type": "stream",
     "text": [
      "Epoch 84/86, Loss: 1.0897, Time: 0,54s\n"
     ]
    },
    {
     "name": "stderr",
     "output_type": "stream",
     "text": [
      "100%|██████████| 12835/12835 [00:54<00:00, 235.71it/s]\n",
      " 30%|███       | 24/79 [32:45<8:55:04, 583.72s/it]"
     ]
    },
    {
     "name": "stdout",
     "output_type": "stream",
     "text": [
      "Epoch 85/86, Loss: 1.0684, Time: 0,54s\n",
      "Total games --> 10000\n"
     ]
    },
    {
     "name": "stderr",
     "output_type": "stream",
     "text": [
      " 32%|███▏      | 25/79 [32:51<6:09:47, 410.88s/it]"
     ]
    },
    {
     "name": "stdout",
     "output_type": "stream",
     "text": [
      "3454---../Data/pgn/lichess_elite_2015-11.pgn\n",
      "Total games --> 10000\n"
     ]
    },
    {
     "name": "stderr",
     "output_type": "stream",
     "text": [
      " 33%|███▎      | 26/79 [32:59<4:16:36, 290.50s/it]"
     ]
    },
    {
     "name": "stdout",
     "output_type": "stream",
     "text": [
      "5549---../Data/pgn/lichess_elite_2015-12.pgn\n",
      "Total games --> 10000\n",
      "997---../Data/pgn/lichess_elite_2016-01.pgn\n",
      "10000\n",
      "number of samples: 807313\n",
      "Using devices: cuda\n"
     ]
    },
    {
     "name": "stderr",
     "output_type": "stream",
     "text": [
      "100%|██████████| 12615/12615 [00:53<00:00, 234.55it/s]\n"
     ]
    },
    {
     "name": "stdout",
     "output_type": "stream",
     "text": [
      "Epoch 51/86, Loss: 3.0348, Time: 0,53s\n"
     ]
    },
    {
     "name": "stderr",
     "output_type": "stream",
     "text": [
      "100%|██████████| 12615/12615 [00:54<00:00, 233.00it/s]\n"
     ]
    },
    {
     "name": "stdout",
     "output_type": "stream",
     "text": [
      "Epoch 52/86, Loss: 2.5603, Time: 0,54s\n"
     ]
    },
    {
     "name": "stderr",
     "output_type": "stream",
     "text": [
      "100%|██████████| 12615/12615 [00:53<00:00, 234.55it/s]\n"
     ]
    },
    {
     "name": "stdout",
     "output_type": "stream",
     "text": [
      "Epoch 53/86, Loss: 2.3187, Time: 0,53s\n"
     ]
    },
    {
     "name": "stderr",
     "output_type": "stream",
     "text": [
      "100%|██████████| 12615/12615 [00:54<00:00, 232.91it/s]\n"
     ]
    },
    {
     "name": "stdout",
     "output_type": "stream",
     "text": [
      "Epoch 54/86, Loss: 2.1384, Time: 0,54s\n"
     ]
    },
    {
     "name": "stderr",
     "output_type": "stream",
     "text": [
      "100%|██████████| 12615/12615 [00:53<00:00, 236.45it/s]\n"
     ]
    },
    {
     "name": "stdout",
     "output_type": "stream",
     "text": [
      "Epoch 55/86, Loss: 1.9901, Time: 0,53s\n"
     ]
    },
    {
     "name": "stderr",
     "output_type": "stream",
     "text": [
      "100%|██████████| 12615/12615 [00:53<00:00, 236.33it/s]\n"
     ]
    },
    {
     "name": "stdout",
     "output_type": "stream",
     "text": [
      "Epoch 56/86, Loss: 1.8614, Time: 0,53s\n"
     ]
    },
    {
     "name": "stderr",
     "output_type": "stream",
     "text": []
    }
   ],
   "source": [
    "def load_pgn(file_path,total_games,maxg):\n",
    "    games=[]\n",
    "    i=0\n",
    "    with open(file_path, 'r' ) as pgn_file:\n",
    "        while True:\n",
    "            game=pgn.read_game(pgn_file)\n",
    "            if game is None or i+total_games>=maxg:\n",
    "                break\n",
    "                \n",
    "            games.append(game)\n",
    "            i+=1\n",
    "    print(f\"{i}---{file_path}\")\n",
    "    return games\n",
    "\n",
    "\n",
    "\n",
    "\n",
    "model =None\n",
    "files = [file for file in os.listdir(\"../Data/pgn\") if file.endswith(\".pgn\")]\n",
    "files.sort()\n",
    "games = []\n",
    "i = 0\n",
    "mi=0\n",
    "game_cap = 60000\n",
    "make_at_max=10000\n",
    "\n",
    "for file in tqdm(files):\n",
    "    li = load_pgn(f\"../Data/pgn/{file}\", len(games),make_at_max)\n",
    "    games.extend(li)\n",
    "    mi+=len(li)\n",
    "\n",
    "    # Call global_move_dict when reaching each batch or at the end\n",
    "    if mi>=make_at_max:\n",
    "\n",
    "        doit(games)\n",
    "        games = []\n",
    "      \n",
    "        i+=mi\n",
    "        mi=0\n",
    "          # free memory\n",
    "\n",
    "    if i >= game_cap:\n",
    "        torch.save(model.state_dict(),\"../models/epochgame60000.pth\")\n",
    "        break\n",
    "\n",
    "    print(f\"Total games --> {i}\")\n",
    "        "
   ]
  }
 ],
 "metadata": {
  "kernelspec": {
   "display_name": "jupyterEnv",
   "language": "python",
   "name": "python3"
  },
  "language_info": {
   "codemirror_mode": {
    "name": "ipython",
    "version": 3
   },
   "file_extension": ".py",
   "mimetype": "text/x-python",
   "name": "python",
   "nbconvert_exporter": "python",
   "pygments_lexer": "ipython3",
   "version": "3.13.3"
  }
 },
 "nbformat": 4,
 "nbformat_minor": 5
}
