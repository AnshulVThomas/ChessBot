{
 "cells": [
  {
   "cell_type": "code",
   "execution_count": 1,
   "id": "1d885482",
   "metadata": {},
   "outputs": [],
   "source": [
    "import os\n",
    "import pickle\n",
    "from tqdm import tqdm\n",
    "from chess import pgn"
   ]
  },
  {
   "cell_type": "code",
   "execution_count": 2,
   "id": "edb50757",
   "metadata": {},
   "outputs": [],
   "source": [
    "\n",
    "\n",
    "def global_move_dict(games, move_to_int_path=\"../models/final_move_to_int.pkl\",total_moves=0):\n",
    "    # Load existing dictionary if it exists\n",
    "    if os.path.exists(move_to_int_path):\n",
    "        with open(move_to_int_path, \"rb\") as f:\n",
    "            move_to_int = pickle.load(f)\n",
    "    else:\n",
    "        move_to_int = {}\n",
    "\n",
    "    # Reverse lookup for quick updates\n",
    "    current_max_index = max(move_to_int.values()) + 1 if move_to_int else 0\n",
    "    # total_moves=0\n",
    "\n",
    "    # Collect new unique moves\n",
    "    for game in games:\n",
    "        for move in game.mainline_moves():\n",
    "            total_moves+=1\n",
    "            move_str = move.uci()\n",
    "            if move_str not in move_to_int:\n",
    "                move_to_int[move_str] = current_max_index\n",
    "                current_max_index += 1\n",
    "\n",
    "    # Save updated dictionary\n",
    "    with open(move_to_int_path, \"wb\") as f:\n",
    "        pickle.dump(move_to_int, f)\n",
    "\n",
    "    print(f\"\\n total processed --{total_moves}\")\n",
    "\n",
    "    print(f\"\\nUpdated and saved move_to_int with {len(move_to_int)} moves.\")\n",
    "    return total_moves\n"
   ]
  },
  {
   "cell_type": "code",
   "execution_count": 3,
   "id": "21b02338",
   "metadata": {},
   "outputs": [
    {
     "name": "stderr",
     "output_type": "stream",
     "text": [
      "  0%|          | 0/79 [00:00<?, ?it/s]"
     ]
    },
    {
     "name": "stdout",
     "output_type": "stream",
     "text": [
      "10---../Data/pgn/lichess_elite_2013-09.pgn\n",
      "Total games --> 0\n",
      "4---../Data/pgn/lichess_elite_2013-11.pgn\n",
      "Total games --> 0\n",
      "3---../Data/pgn/lichess_elite_2014-01.pgn\n",
      "Total games --> 0\n",
      "23---../Data/pgn/lichess_elite_2014-02.pgn\n",
      "Total games --> 0\n",
      "5---../Data/pgn/lichess_elite_2014-03.pgn\n",
      "Total games --> 0\n",
      "7---../Data/pgn/lichess_elite_2014-04.pgn\n",
      "Total games --> 0\n"
     ]
    },
    {
     "name": "stderr",
     "output_type": "stream",
     "text": [
      "  9%|▉         | 7/79 [00:00<00:05, 13.97it/s]"
     ]
    },
    {
     "name": "stdout",
     "output_type": "stream",
     "text": [
      "264---../Data/pgn/lichess_elite_2014-05.pgn\n",
      "Total games --> 0\n"
     ]
    },
    {
     "name": "stderr",
     "output_type": "stream",
     "text": [
      " 11%|█▏        | 9/79 [00:00<00:07,  9.78it/s]"
     ]
    },
    {
     "name": "stdout",
     "output_type": "stream",
     "text": [
      "140---../Data/pgn/lichess_elite_2014-06.pgn\n",
      "Total games --> 0\n",
      "92---../Data/pgn/lichess_elite_2014-07.pgn\n",
      "Total games --> 0\n"
     ]
    },
    {
     "name": "stderr",
     "output_type": "stream",
     "text": [
      " 13%|█▎        | 10/79 [00:01<00:08,  8.35it/s]"
     ]
    },
    {
     "name": "stdout",
     "output_type": "stream",
     "text": [
      "138---../Data/pgn/lichess_elite_2014-08.pgn\n",
      "Total games --> 0\n"
     ]
    },
    {
     "name": "stderr",
     "output_type": "stream",
     "text": [
      " 14%|█▍        | 11/79 [00:01<00:10,  6.57it/s]"
     ]
    },
    {
     "name": "stdout",
     "output_type": "stream",
     "text": [
      "207---../Data/pgn/lichess_elite_2014-09.pgn\n",
      "Total games --> 0\n"
     ]
    },
    {
     "name": "stderr",
     "output_type": "stream",
     "text": [
      " 15%|█▌        | 12/79 [00:02<00:17,  3.73it/s]"
     ]
    },
    {
     "name": "stdout",
     "output_type": "stream",
     "text": [
      "448---../Data/pgn/lichess_elite_2014-10.pgn\n",
      "Total games --> 0\n"
     ]
    },
    {
     "name": "stderr",
     "output_type": "stream",
     "text": [
      " 16%|█▋        | 13/79 [00:02<00:18,  3.57it/s]"
     ]
    },
    {
     "name": "stdout",
     "output_type": "stream",
     "text": [
      "238---../Data/pgn/lichess_elite_2014-11.pgn\n",
      "Total games --> 0\n"
     ]
    },
    {
     "name": "stderr",
     "output_type": "stream",
     "text": [
      " 18%|█▊        | 14/79 [00:03<00:26,  2.48it/s]"
     ]
    },
    {
     "name": "stdout",
     "output_type": "stream",
     "text": [
      "539---../Data/pgn/lichess_elite_2014-12.pgn\n",
      "Total games --> 0\n"
     ]
    },
    {
     "name": "stderr",
     "output_type": "stream",
     "text": [
      " 19%|█▉        | 15/79 [00:03<00:29,  2.19it/s]"
     ]
    },
    {
     "name": "stdout",
     "output_type": "stream",
     "text": [
      "464---../Data/pgn/lichess_elite_2015-01.pgn\n",
      "Total games --> 0\n"
     ]
    },
    {
     "name": "stderr",
     "output_type": "stream",
     "text": [
      " 20%|██        | 16/79 [00:05<00:43,  1.45it/s]"
     ]
    },
    {
     "name": "stdout",
     "output_type": "stream",
     "text": [
      "774---../Data/pgn/lichess_elite_2015-02.pgn\n",
      "Total games --> 0\n"
     ]
    },
    {
     "name": "stderr",
     "output_type": "stream",
     "text": [
      " 22%|██▏       | 17/79 [00:06<00:49,  1.25it/s]"
     ]
    },
    {
     "name": "stdout",
     "output_type": "stream",
     "text": [
      "741---../Data/pgn/lichess_elite_2015-03.pgn\n",
      "Total games --> 0\n"
     ]
    },
    {
     "name": "stderr",
     "output_type": "stream",
     "text": [
      " 23%|██▎       | 18/79 [00:07<00:51,  1.18it/s]"
     ]
    },
    {
     "name": "stdout",
     "output_type": "stream",
     "text": [
      "580---../Data/pgn/lichess_elite_2015-04.pgn\n",
      "Total games --> 0\n"
     ]
    },
    {
     "name": "stderr",
     "output_type": "stream",
     "text": [
      " 24%|██▍       | 19/79 [00:08<00:52,  1.14it/s]"
     ]
    },
    {
     "name": "stdout",
     "output_type": "stream",
     "text": [
      "639---../Data/pgn/lichess_elite_2015-05.pgn\n",
      "Total games --> 0\n"
     ]
    },
    {
     "name": "stderr",
     "output_type": "stream",
     "text": [
      " 25%|██▌       | 20/79 [00:08<00:47,  1.24it/s]"
     ]
    },
    {
     "name": "stdout",
     "output_type": "stream",
     "text": [
      "351---../Data/pgn/lichess_elite_2015-06.pgn\n",
      "Total games --> 0\n"
     ]
    },
    {
     "name": "stderr",
     "output_type": "stream",
     "text": [
      " 27%|██▋       | 21/79 [00:09<00:44,  1.31it/s]"
     ]
    },
    {
     "name": "stdout",
     "output_type": "stream",
     "text": [
      "478---../Data/pgn/lichess_elite_2015-07.pgn\n",
      "Total games --> 0\n"
     ]
    },
    {
     "name": "stderr",
     "output_type": "stream",
     "text": [
      " 28%|██▊       | 22/79 [00:10<00:54,  1.05it/s]"
     ]
    },
    {
     "name": "stdout",
     "output_type": "stream",
     "text": [
      "869---../Data/pgn/lichess_elite_2015-08.pgn\n",
      "Total games --> 0\n"
     ]
    },
    {
     "name": "stderr",
     "output_type": "stream",
     "text": [
      " 29%|██▉       | 23/79 [00:13<01:17,  1.38s/it]"
     ]
    },
    {
     "name": "stdout",
     "output_type": "stream",
     "text": [
      "1750---../Data/pgn/lichess_elite_2015-09.pgn\n",
      "Total games --> 0\n"
     ]
    },
    {
     "name": "stderr",
     "output_type": "stream",
     "text": [
      " 30%|███       | 24/79 [00:15<01:31,  1.67s/it]"
     ]
    },
    {
     "name": "stdout",
     "output_type": "stream",
     "text": [
      "1563---../Data/pgn/lichess_elite_2015-10.pgn\n",
      "Total games --> 0\n"
     ]
    },
    {
     "name": "stderr",
     "output_type": "stream",
     "text": [
      " 32%|███▏      | 25/79 [00:20<02:23,  2.66s/it]"
     ]
    },
    {
     "name": "stdout",
     "output_type": "stream",
     "text": [
      "3454---../Data/pgn/lichess_elite_2015-11.pgn\n",
      "Total games --> 0\n"
     ]
    },
    {
     "name": "stderr",
     "output_type": "stream",
     "text": [
      " 33%|███▎      | 26/79 [00:28<03:48,  4.31s/it]"
     ]
    },
    {
     "name": "stdout",
     "output_type": "stream",
     "text": [
      "5549---../Data/pgn/lichess_elite_2015-12.pgn\n",
      "Total games --> 0\n",
      "670---../Data/pgn/lichess_elite_2016-01.pgn\n"
     ]
    },
    {
     "name": "stderr",
     "output_type": "stream",
     "text": [
      " 34%|███▍      | 27/79 [00:29<02:56,  3.40s/it]"
     ]
    },
    {
     "name": "stdout",
     "output_type": "stream",
     "text": [
      "\n",
      " total processed --1629211\n",
      "\n",
      "Updated and saved move_to_int with 1877 moves.\n",
      "Total games --> 20000\n"
     ]
    },
    {
     "name": "stderr",
     "output_type": "stream",
     "text": [
      " 35%|███▌      | 28/79 [00:48<06:51,  8.08s/it]"
     ]
    },
    {
     "name": "stdout",
     "output_type": "stream",
     "text": [
      "13149---../Data/pgn/lichess_elite_2016-02.pgn\n",
      "Total games --> 20000\n",
      "6851---../Data/pgn/lichess_elite_2016-03.pgn\n"
     ]
    },
    {
     "name": "stderr",
     "output_type": "stream",
     "text": [
      " 37%|███▋      | 29/79 [00:58<07:14,  8.68s/it]"
     ]
    },
    {
     "name": "stdout",
     "output_type": "stream",
     "text": [
      "\n",
      " total processed --1572839\n",
      "\n",
      "Updated and saved move_to_int with 1890 moves.\n",
      "Total games --> 40000\n",
      "20000---../Data/pgn/lichess_elite_2016-04.pgn\n"
     ]
    },
    {
     "name": "stderr",
     "output_type": "stream",
     "text": [
      " 38%|███▊      | 30/79 [01:28<12:12, 14.95s/it]"
     ]
    },
    {
     "name": "stdout",
     "output_type": "stream",
     "text": [
      "\n",
      " total processed --1597337\n",
      "\n",
      "Updated and saved move_to_int with 1901 moves.\n",
      "Total games --> 60000\n",
      "20000---../Data/pgn/lichess_elite_2016-05.pgn\n"
     ]
    },
    {
     "name": "stderr",
     "output_type": "stream",
     "text": [
      " 39%|███▉      | 31/79 [01:56<15:11, 18.99s/it]"
     ]
    },
    {
     "name": "stdout",
     "output_type": "stream",
     "text": [
      "\n",
      " total processed --1590160\n",
      "\n",
      "Updated and saved move_to_int with 1910 moves.\n",
      "Total games --> 80000\n",
      "20000---../Data/pgn/lichess_elite_2016-06.pgn\n"
     ]
    },
    {
     "name": "stderr",
     "output_type": "stream",
     "text": [
      " 41%|████      | 32/79 [02:26<17:22, 22.19s/it]"
     ]
    },
    {
     "name": "stdout",
     "output_type": "stream",
     "text": [
      "\n",
      " total processed --1610700\n",
      "\n",
      "Updated and saved move_to_int with 1914 moves.\n",
      "Total games --> 100000\n",
      "20000---../Data/pgn/lichess_elite_2016-07.pgn\n"
     ]
    },
    {
     "name": "stderr",
     "output_type": "stream",
     "text": [
      " 42%|████▏     | 33/79 [02:55<18:34, 24.24s/it]"
     ]
    },
    {
     "name": "stdout",
     "output_type": "stream",
     "text": [
      "\n",
      " total processed --1597746\n",
      "\n",
      "Updated and saved move_to_int with 1915 moves.\n",
      "Total games --> 120000\n",
      "20000---../Data/pgn/lichess_elite_2016-08.pgn\n"
     ]
    },
    {
     "name": "stderr",
     "output_type": "stream",
     "text": [
      " 43%|████▎     | 34/79 [03:24<19:16, 25.70s/it]"
     ]
    },
    {
     "name": "stdout",
     "output_type": "stream",
     "text": [
      "\n",
      " total processed --1611713\n",
      "\n",
      "Updated and saved move_to_int with 1920 moves.\n",
      "Total games --> 140000\n",
      "20000---../Data/pgn/lichess_elite_2016-09.pgn\n"
     ]
    },
    {
     "name": "stderr",
     "output_type": "stream",
     "text": [
      " 44%|████▍     | 35/79 [03:53<19:24, 26.46s/it]"
     ]
    },
    {
     "name": "stdout",
     "output_type": "stream",
     "text": [
      "\n",
      " total processed --1602903\n",
      "\n",
      "Updated and saved move_to_int with 1923 moves.\n",
      "Total games --> 160000\n",
      "20000---../Data/pgn/lichess_elite_2016-10.pgn\n"
     ]
    },
    {
     "name": "stderr",
     "output_type": "stream",
     "text": [
      " 46%|████▌     | 36/79 [04:22<19:34, 27.32s/it]"
     ]
    },
    {
     "name": "stdout",
     "output_type": "stream",
     "text": [
      "\n",
      " total processed --1618770\n",
      "\n",
      "Updated and saved move_to_int with 1925 moves.\n",
      "Total games --> 180000\n",
      "20000---../Data/pgn/lichess_elite_2016-11.pgn\n"
     ]
    },
    {
     "name": "stderr",
     "output_type": "stream",
     "text": [
      " 47%|████▋     | 37/79 [04:51<19:31, 27.90s/it]"
     ]
    },
    {
     "name": "stdout",
     "output_type": "stream",
     "text": [
      "\n",
      " total processed --1616368\n",
      "\n",
      "Updated and saved move_to_int with 1926 moves.\n",
      "Total games --> 200000\n",
      "20000---../Data/pgn/lichess_elite_2016-12.pgn\n"
     ]
    },
    {
     "name": "stderr",
     "output_type": "stream",
     "text": [
      " 48%|████▊     | 38/79 [05:21<19:28, 28.51s/it]"
     ]
    },
    {
     "name": "stdout",
     "output_type": "stream",
     "text": [
      "\n",
      " total processed --1627500\n",
      "\n",
      "Updated and saved move_to_int with 1928 moves.\n",
      "Total games --> 220000\n",
      "20000---../Data/pgn/lichess_elite_2017-01.pgn\n"
     ]
    },
    {
     "name": "stderr",
     "output_type": "stream",
     "text": [
      " 49%|████▉     | 39/79 [05:49<18:59, 28.49s/it]"
     ]
    },
    {
     "name": "stdout",
     "output_type": "stream",
     "text": [
      "\n",
      " total processed --1634404\n",
      "\n",
      "Updated and saved move_to_int with 1931 moves.\n",
      "Total games --> 240000\n",
      "20000---../Data/pgn/lichess_elite_2017-02.pgn\n"
     ]
    },
    {
     "name": "stderr",
     "output_type": "stream",
     "text": [
      " 51%|█████     | 40/79 [06:19<18:44, 28.84s/it]"
     ]
    },
    {
     "name": "stdout",
     "output_type": "stream",
     "text": [
      "\n",
      " total processed --1643784\n",
      "\n",
      "Updated and saved move_to_int with 1934 moves.\n",
      "Total games --> 260000\n",
      "20000---../Data/pgn/lichess_elite_2017-03.pgn\n"
     ]
    },
    {
     "name": "stderr",
     "output_type": "stream",
     "text": [
      " 52%|█████▏    | 41/79 [06:49<18:28, 29.16s/it]"
     ]
    },
    {
     "name": "stdout",
     "output_type": "stream",
     "text": [
      "\n",
      " total processed --1648068\n",
      "\n",
      "Updated and saved move_to_int with 1937 moves.\n",
      "Total games --> 280000\n"
     ]
    },
    {
     "name": "stderr",
     "output_type": "stream",
     "text": [
      " 53%|█████▎    | 42/79 [07:17<17:49, 28.90s/it]"
     ]
    },
    {
     "name": "stdout",
     "output_type": "stream",
     "text": [
      "19384---../Data/pgn/lichess_elite_2017-04.pgn\n",
      "Total games --> 280000\n",
      "616---../Data/pgn/lichess_elite_2017-05.pgn\n"
     ]
    },
    {
     "name": "stderr",
     "output_type": "stream",
     "text": [
      " 54%|█████▍    | 43/79 [07:19<12:21, 20.59s/it]"
     ]
    },
    {
     "name": "stdout",
     "output_type": "stream",
     "text": [
      "\n",
      " total processed --1645412\n",
      "\n",
      "Updated and saved move_to_int with 1939 moves.\n",
      "Total games --> 300000\n",
      "20000---../Data/pgn/lichess_elite_2017-06.pgn\n"
     ]
    },
    {
     "name": "stderr",
     "output_type": "stream",
     "text": [
      " 56%|█████▌    | 44/79 [07:49<13:39, 23.43s/it]"
     ]
    },
    {
     "name": "stdout",
     "output_type": "stream",
     "text": [
      "\n",
      " total processed --1652077\n",
      "\n",
      "Updated and saved move_to_int with 1940 moves.\n",
      "Total games --> 320000\n",
      "20000---../Data/pgn/lichess_elite_2017-07.pgn\n"
     ]
    },
    {
     "name": "stderr",
     "output_type": "stream",
     "text": [
      " 57%|█████▋    | 45/79 [08:17<14:02, 24.79s/it]"
     ]
    },
    {
     "name": "stdout",
     "output_type": "stream",
     "text": [
      "\n",
      " total processed --1652756\n",
      "\n",
      "Updated and saved move_to_int with 1940 moves.\n",
      "Total games --> 340000\n",
      "20000---../Data/pgn/lichess_elite_2017-08.pgn\n"
     ]
    },
    {
     "name": "stderr",
     "output_type": "stream",
     "text": [
      " 58%|█████▊    | 46/79 [08:47<14:29, 26.36s/it]"
     ]
    },
    {
     "name": "stdout",
     "output_type": "stream",
     "text": [
      "\n",
      " total processed --1669126\n",
      "\n",
      "Updated and saved move_to_int with 1940 moves.\n",
      "Total games --> 360000\n",
      "20000---../Data/pgn/lichess_elite_2017-09.pgn\n"
     ]
    },
    {
     "name": "stderr",
     "output_type": "stream",
     "text": [
      " 59%|█████▉    | 47/79 [09:16<14:30, 27.21s/it]"
     ]
    },
    {
     "name": "stdout",
     "output_type": "stream",
     "text": [
      "\n",
      " total processed --1669545\n",
      "\n",
      "Updated and saved move_to_int with 1943 moves.\n",
      "Total games --> 380000\n",
      "20000---../Data/pgn/lichess_elite_2017-10.pgn\n"
     ]
    },
    {
     "name": "stderr",
     "output_type": "stream",
     "text": [
      " 61%|██████    | 48/79 [09:46<14:34, 28.21s/it]"
     ]
    },
    {
     "name": "stdout",
     "output_type": "stream",
     "text": [
      "\n",
      " total processed --1670971\n",
      "\n",
      "Updated and saved move_to_int with 1944 moves.\n",
      "Total games --> 400000\n",
      "20000---../Data/pgn/lichess_elite_2017-11.pgn\n"
     ]
    },
    {
     "name": "stderr",
     "output_type": "stream",
     "text": [
      " 62%|██████▏   | 49/79 [10:16<14:23, 28.79s/it]"
     ]
    },
    {
     "name": "stdout",
     "output_type": "stream",
     "text": [
      "\n",
      " total processed --1677612\n",
      "\n",
      "Updated and saved move_to_int with 1947 moves.\n",
      "Total games --> 420000\n",
      "20000---../Data/pgn/lichess_elite_2017-12.pgn\n"
     ]
    },
    {
     "name": "stderr",
     "output_type": "stream",
     "text": [
      " 63%|██████▎   | 50/79 [10:45<13:53, 28.73s/it]"
     ]
    },
    {
     "name": "stdout",
     "output_type": "stream",
     "text": [
      "\n",
      " total processed --1657054\n",
      "\n",
      "Updated and saved move_to_int with 1947 moves.\n",
      "Total games --> 440000\n",
      "20000---../Data/pgn/lichess_elite_2018-01.pgn\n"
     ]
    },
    {
     "name": "stderr",
     "output_type": "stream",
     "text": [
      " 65%|██████▍   | 51/79 [11:14<13:27, 28.85s/it]"
     ]
    },
    {
     "name": "stdout",
     "output_type": "stream",
     "text": [
      "\n",
      " total processed --1657897\n",
      "\n",
      "Updated and saved move_to_int with 1948 moves.\n",
      "Total games --> 460000\n",
      "20000---../Data/pgn/lichess_elite_2018-02.pgn\n"
     ]
    },
    {
     "name": "stderr",
     "output_type": "stream",
     "text": [
      " 66%|██████▌   | 52/79 [11:43<13:00, 28.92s/it]"
     ]
    },
    {
     "name": "stdout",
     "output_type": "stream",
     "text": [
      "\n",
      " total processed --1658481\n",
      "\n",
      "Updated and saved move_to_int with 1948 moves.\n",
      "Total games --> 480000\n",
      "20000---../Data/pgn/lichess_elite_2018-03.pgn\n"
     ]
    },
    {
     "name": "stderr",
     "output_type": "stream",
     "text": [
      " 67%|██████▋   | 53/79 [12:14<12:43, 29.36s/it]"
     ]
    },
    {
     "name": "stdout",
     "output_type": "stream",
     "text": [
      "\n",
      " total processed --1648080\n",
      "\n",
      "Updated and saved move_to_int with 1948 moves.\n",
      "Total games --> 500000\n",
      "20000---../Data/pgn/lichess_elite_2018-04.pgn\n"
     ]
    },
    {
     "name": "stderr",
     "output_type": "stream",
     "text": [
      " 68%|██████▊   | 54/79 [12:45<12:25, 29.84s/it]"
     ]
    },
    {
     "name": "stdout",
     "output_type": "stream",
     "text": [
      "\n",
      " total processed --1660776\n",
      "\n",
      "Updated and saved move_to_int with 1948 moves.\n",
      "Total games --> 520000\n",
      "20000---../Data/pgn/lichess_elite_2018-05.pgn\n"
     ]
    },
    {
     "name": "stderr",
     "output_type": "stream",
     "text": [
      " 70%|██████▉   | 55/79 [13:13<11:44, 29.37s/it]"
     ]
    },
    {
     "name": "stdout",
     "output_type": "stream",
     "text": [
      "\n",
      " total processed --1664393\n",
      "\n",
      "Updated and saved move_to_int with 1949 moves.\n",
      "Total games --> 540000\n",
      "20000---../Data/pgn/lichess_elite_2018-06.pgn\n"
     ]
    },
    {
     "name": "stderr",
     "output_type": "stream",
     "text": [
      " 71%|███████   | 56/79 [13:43<11:18, 29.50s/it]"
     ]
    },
    {
     "name": "stdout",
     "output_type": "stream",
     "text": [
      "\n",
      " total processed --1689101\n",
      "\n",
      "Updated and saved move_to_int with 1950 moves.\n",
      "Total games --> 560000\n",
      "20000---../Data/pgn/lichess_elite_2018-07.pgn\n"
     ]
    },
    {
     "name": "stderr",
     "output_type": "stream",
     "text": [
      " 72%|███████▏  | 57/79 [14:13<10:54, 29.73s/it]"
     ]
    },
    {
     "name": "stdout",
     "output_type": "stream",
     "text": [
      "\n",
      " total processed --1672244\n",
      "\n",
      "Updated and saved move_to_int with 1950 moves.\n",
      "Total games --> 580000\n",
      "20000---../Data/pgn/lichess_elite_2018-08.pgn\n"
     ]
    },
    {
     "name": "stderr",
     "output_type": "stream",
     "text": [
      " 72%|███████▏  | 57/79 [14:44<05:41, 15.52s/it]"
     ]
    },
    {
     "name": "stdout",
     "output_type": "stream",
     "text": [
      "\n",
      " total processed --1661828\n",
      "\n",
      "Updated and saved move_to_int with 1951 moves.\n"
     ]
    },
    {
     "name": "stderr",
     "output_type": "stream",
     "text": [
      "\n"
     ]
    }
   ],
   "source": [
    "def load_pgn(file_path,total_games,maxg):\n",
    "    games=[]\n",
    "    i=0\n",
    "    with open(file_path, 'r' ) as pgn_file:\n",
    "        while True:\n",
    "            game=pgn.read_game(pgn_file)\n",
    "            if game is None or i+total_games>=maxg:\n",
    "                break\n",
    "                \n",
    "            games.append(game)\n",
    "            i+=1\n",
    "    print(f\"{i}---{file_path}\")\n",
    "    return games\n",
    "\n",
    "\n",
    "\n",
    "\n",
    "\n",
    "files = [file for file in os.listdir(\"../Data/pgn\") if file.endswith(\".pgn\")]\n",
    "files.sort()\n",
    "games = []\n",
    "i = 0\n",
    "mi=0\n",
    "game_cap = 600000\n",
    "make_at_max=20000\n",
    "\n",
    "for file in tqdm(files):\n",
    "    li = load_pgn(f\"../Data/pgn/{file}\", len(games),make_at_max)\n",
    "    games.extend(li)\n",
    "    mi+=len(li)\n",
    "\n",
    "    # Call global_move_dict when reaching each batch or at the end\n",
    "    if mi>=make_at_max:\n",
    "\n",
    "        global_move_dict(games)\n",
    "        games = []\n",
    "      \n",
    "        i+=mi\n",
    "        mi=0\n",
    "          # free memory\n",
    "\n",
    "    if i >= game_cap:\n",
    "        break\n",
    "\n",
    "    print(f\"Total games --> {i}\")\n",
    "        "
   ]
  }
 ],
 "metadata": {
  "kernelspec": {
   "display_name": "jupyterEnv",
   "language": "python",
   "name": "python3"
  },
  "language_info": {
   "codemirror_mode": {
    "name": "ipython",
    "version": 3
   },
   "file_extension": ".py",
   "mimetype": "text/x-python",
   "name": "python",
   "nbconvert_exporter": "python",
   "pygments_lexer": "ipython3",
   "version": "3.13.3"
  }
 },
 "nbformat": 4,
 "nbformat_minor": 5
}
