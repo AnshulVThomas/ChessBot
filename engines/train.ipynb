{
 "cells": [
  {
   "cell_type": "code",
   "execution_count": 1,
   "id": "0ba2737e",
   "metadata": {},
   "outputs": [],
   "source": [
    "import os\n",
    "import numpy as np\n",
    "import time\n",
    "import torch\n",
    "import torch.nn as nn\n",
    "import torch.optim as optim\n",
    "from torch.utils.data import DataLoader\n",
    "from chess import pgn\n",
    "from tqdm import tqdm"
   ]
  },
  {
   "cell_type": "code",
   "execution_count": 2,
   "id": "2647af2a",
   "metadata": {},
   "outputs": [
    {
     "name": "stderr",
     "output_type": "stream",
     "text": [
      "  0%|          | 0/1 [00:13<?, ?it/s]"
     ]
    },
    {
     "name": "stdout",
     "output_type": "stream",
     "text": [
      "9091-../Data/pgn/lichess_elite_2016-01.pgn\n"
     ]
    },
    {
     "name": "stderr",
     "output_type": "stream",
     "text": [
      "\n"
     ]
    }
   ],
   "source": [
    "def load_pgn(file_path):\n",
    "    games=[]\n",
    "    i=0\n",
    "    with open(file_path, 'r' ) as pgn_file:\n",
    "        while True:\n",
    "            game=pgn.read_game(pgn_file)\n",
    "            if game is None :\n",
    "                break\n",
    "            games.append(game)\n",
    "            i+=1\n",
    "    print(f\"{i}-{file_path}\")\n",
    "    return games\n",
    "\n",
    "files=[file for file in os.listdir(\"../Data/pgn\") if file.endswith(\".pgn\")]\n",
    "Limit_of_files=min(len(files),1)\n",
    "games=[]\n",
    "i=1\n",
    "\n",
    "for file in tqdm(files):\n",
    "    games.extend(load_pgn(f\"../Data/pgn/{file}\"))\n",
    "    if i >= Limit_of_files:\n",
    "        break\n",
    "    i+=1\n",
    "    i"
   ]
  },
  {
   "cell_type": "code",
   "execution_count": 3,
   "id": "1be7f04e",
   "metadata": {},
   "outputs": [
    {
     "name": "stdout",
     "output_type": "stream",
     "text": [
      "9091\n"
     ]
    }
   ],
   "source": [
    "print(len(games))"
   ]
  },
  {
   "cell_type": "code",
   "execution_count": 4,
   "id": "42cbd144",
   "metadata": {},
   "outputs": [],
   "source": [
    "from auxilary_function import create_input_for_nn,encode_moves"
   ]
  },
  {
   "cell_type": "code",
   "execution_count": 5,
   "id": "b3e3a3ef",
   "metadata": {},
   "outputs": [
    {
     "name": "stdout",
     "output_type": "stream",
     "text": [
      "number of samples: 725493\n"
     ]
    }
   ],
   "source": [
    "x,y=create_input_for_nn(games)\n",
    "print(f\"number of samples: {len(y)}\")"
   ]
  },
  {
   "cell_type": "code",
   "execution_count": 6,
   "id": "261fc7b0",
   "metadata": {},
   "outputs": [],
   "source": [
    "x=x[0:2500000]\n",
    "y=y[0:2500000]"
   ]
  },
  {
   "cell_type": "code",
   "execution_count": 7,
   "id": "dbadb965",
   "metadata": {},
   "outputs": [],
   "source": [
    "y,move_to_int=encode_moves(y)\n",
    "num_classes=len(move_to_int)"
   ]
  },
  {
   "cell_type": "code",
   "execution_count": 8,
   "id": "3944acdc",
   "metadata": {},
   "outputs": [],
   "source": [
    "x=torch.tensor(x,dtype=torch.float32)\n",
    "y=torch.tensor(y,dtype=torch.long)\n"
   ]
  },
  {
   "cell_type": "markdown",
   "id": "e22fcbe4",
   "metadata": {},
   "source": [
    "Priliminary Actions"
   ]
  },
  {
   "cell_type": "code",
   "execution_count": 9,
   "id": "79e7dfd6",
   "metadata": {},
   "outputs": [],
   "source": [
    "from dataset import ChessDataset\n",
    "from model import ChessModel\n"
   ]
  },
  {
   "cell_type": "code",
   "execution_count": 10,
   "id": "2630f8c3",
   "metadata": {},
   "outputs": [
    {
     "name": "stdout",
     "output_type": "stream",
     "text": [
      "Using devices: cuda\n"
     ]
    }
   ],
   "source": [
    "dataset=ChessDataset(x,y)\n",
    "dataLoader=DataLoader(dataset,batch_size=64,shuffle=True)\n",
    "\n",
    "device=torch.device('cuda' if torch.cuda.is_available() else 'cpu')\n",
    "print(f\"Using devices: {device}\")\n",
    "\n",
    "model= ChessModel(num_classes=num_classes).to(device)\n",
    "criterion=nn.CrossEntropyLoss()\n",
    "optimizer=optim.Adam(model.parameters(),lr=0.0001)"
   ]
  },
  {
   "cell_type": "code",
   "execution_count": 11,
   "id": "97b844e7",
   "metadata": {},
   "outputs": [
    {
     "name": "stderr",
     "output_type": "stream",
     "text": [
      "100%|██████████| 11336/11336 [00:47<00:00, 237.03it/s]\n"
     ]
    },
    {
     "name": "stdout",
     "output_type": "stream",
     "text": [
      "Epoch 51/101, Loss: 4.4457, Time: 0,47s\n"
     ]
    },
    {
     "name": "stderr",
     "output_type": "stream",
     "text": [
      "100%|██████████| 11336/11336 [00:47<00:00, 238.88it/s]\n"
     ]
    },
    {
     "name": "stdout",
     "output_type": "stream",
     "text": [
      "Epoch 52/101, Loss: 3.3183, Time: 0,47s\n"
     ]
    },
    {
     "name": "stderr",
     "output_type": "stream",
     "text": [
      "100%|██████████| 11336/11336 [00:47<00:00, 238.36it/s]\n"
     ]
    },
    {
     "name": "stdout",
     "output_type": "stream",
     "text": [
      "Epoch 53/101, Loss: 2.9268, Time: 0,47s\n"
     ]
    },
    {
     "name": "stderr",
     "output_type": "stream",
     "text": [
      "100%|██████████| 11336/11336 [00:47<00:00, 238.09it/s]\n"
     ]
    },
    {
     "name": "stdout",
     "output_type": "stream",
     "text": [
      "Epoch 54/101, Loss: 2.6863, Time: 0,47s\n"
     ]
    },
    {
     "name": "stderr",
     "output_type": "stream",
     "text": [
      "100%|██████████| 11336/11336 [00:47<00:00, 238.64it/s]\n"
     ]
    },
    {
     "name": "stdout",
     "output_type": "stream",
     "text": [
      "Epoch 55/101, Loss: 2.5154, Time: 0,47s\n"
     ]
    },
    {
     "name": "stderr",
     "output_type": "stream",
     "text": [
      "100%|██████████| 11336/11336 [00:47<00:00, 237.93it/s]\n"
     ]
    },
    {
     "name": "stdout",
     "output_type": "stream",
     "text": [
      "Epoch 56/101, Loss: 2.3798, Time: 0,47s\n"
     ]
    },
    {
     "name": "stderr",
     "output_type": "stream",
     "text": [
      "100%|██████████| 11336/11336 [00:47<00:00, 236.44it/s]\n"
     ]
    },
    {
     "name": "stdout",
     "output_type": "stream",
     "text": [
      "Epoch 57/101, Loss: 2.2649, Time: 0,47s\n"
     ]
    },
    {
     "name": "stderr",
     "output_type": "stream",
     "text": [
      "100%|██████████| 11336/11336 [00:47<00:00, 236.32it/s]\n"
     ]
    },
    {
     "name": "stdout",
     "output_type": "stream",
     "text": [
      "Epoch 58/101, Loss: 2.1631, Time: 0,47s\n"
     ]
    },
    {
     "name": "stderr",
     "output_type": "stream",
     "text": [
      "100%|██████████| 11336/11336 [00:48<00:00, 235.87it/s]\n"
     ]
    },
    {
     "name": "stdout",
     "output_type": "stream",
     "text": [
      "Epoch 59/101, Loss: 2.0712, Time: 0,48s\n"
     ]
    },
    {
     "name": "stderr",
     "output_type": "stream",
     "text": [
      "100%|██████████| 11336/11336 [00:47<00:00, 237.60it/s]\n"
     ]
    },
    {
     "name": "stdout",
     "output_type": "stream",
     "text": [
      "Epoch 60/101, Loss: 1.9864, Time: 0,47s\n"
     ]
    },
    {
     "name": "stderr",
     "output_type": "stream",
     "text": [
      "100%|██████████| 11336/11336 [00:47<00:00, 237.80it/s]\n"
     ]
    },
    {
     "name": "stdout",
     "output_type": "stream",
     "text": [
      "Epoch 61/101, Loss: 1.9074, Time: 0,47s\n"
     ]
    },
    {
     "name": "stderr",
     "output_type": "stream",
     "text": [
      "100%|██████████| 11336/11336 [00:47<00:00, 237.90it/s]\n"
     ]
    },
    {
     "name": "stdout",
     "output_type": "stream",
     "text": [
      "Epoch 62/101, Loss: 1.8348, Time: 0,47s\n"
     ]
    },
    {
     "name": "stderr",
     "output_type": "stream",
     "text": [
      "100%|██████████| 11336/11336 [00:48<00:00, 233.51it/s]\n"
     ]
    },
    {
     "name": "stdout",
     "output_type": "stream",
     "text": [
      "Epoch 63/101, Loss: 1.7650, Time: 0,48s\n"
     ]
    },
    {
     "name": "stderr",
     "output_type": "stream",
     "text": [
      "100%|██████████| 11336/11336 [00:47<00:00, 237.09it/s]\n"
     ]
    },
    {
     "name": "stdout",
     "output_type": "stream",
     "text": [
      "Epoch 64/101, Loss: 1.6992, Time: 0,47s\n"
     ]
    },
    {
     "name": "stderr",
     "output_type": "stream",
     "text": [
      "100%|██████████| 11336/11336 [00:47<00:00, 239.86it/s]\n"
     ]
    },
    {
     "name": "stdout",
     "output_type": "stream",
     "text": [
      "Epoch 65/101, Loss: 1.6378, Time: 0,47s\n"
     ]
    },
    {
     "name": "stderr",
     "output_type": "stream",
     "text": [
      "100%|██████████| 11336/11336 [00:47<00:00, 238.21it/s]\n"
     ]
    },
    {
     "name": "stdout",
     "output_type": "stream",
     "text": [
      "Epoch 66/101, Loss: 1.5795, Time: 0,47s\n"
     ]
    },
    {
     "name": "stderr",
     "output_type": "stream",
     "text": [
      "100%|██████████| 11336/11336 [00:47<00:00, 240.92it/s]\n"
     ]
    },
    {
     "name": "stdout",
     "output_type": "stream",
     "text": [
      "Epoch 67/101, Loss: 1.5243, Time: 0,47s\n"
     ]
    },
    {
     "name": "stderr",
     "output_type": "stream",
     "text": [
      "100%|██████████| 11336/11336 [00:47<00:00, 241.18it/s]\n"
     ]
    },
    {
     "name": "stdout",
     "output_type": "stream",
     "text": [
      "Epoch 68/101, Loss: 1.4703, Time: 0,47s\n"
     ]
    },
    {
     "name": "stderr",
     "output_type": "stream",
     "text": [
      "100%|██████████| 11336/11336 [00:48<00:00, 235.03it/s]\n"
     ]
    },
    {
     "name": "stdout",
     "output_type": "stream",
     "text": [
      "Epoch 69/101, Loss: 1.4205, Time: 0,48s\n"
     ]
    },
    {
     "name": "stderr",
     "output_type": "stream",
     "text": [
      "100%|██████████| 11336/11336 [00:48<00:00, 235.37it/s]\n"
     ]
    },
    {
     "name": "stdout",
     "output_type": "stream",
     "text": [
      "Epoch 70/101, Loss: 1.3715, Time: 0,48s\n"
     ]
    },
    {
     "name": "stderr",
     "output_type": "stream",
     "text": [
      "100%|██████████| 11336/11336 [00:47<00:00, 237.43it/s]\n"
     ]
    },
    {
     "name": "stdout",
     "output_type": "stream",
     "text": [
      "Epoch 71/101, Loss: 1.3255, Time: 0,47s\n"
     ]
    },
    {
     "name": "stderr",
     "output_type": "stream",
     "text": [
      "100%|██████████| 11336/11336 [00:47<00:00, 238.40it/s]\n"
     ]
    },
    {
     "name": "stdout",
     "output_type": "stream",
     "text": [
      "Epoch 72/101, Loss: 1.2818, Time: 0,47s\n"
     ]
    },
    {
     "name": "stderr",
     "output_type": "stream",
     "text": [
      "100%|██████████| 11336/11336 [00:48<00:00, 235.29it/s]\n"
     ]
    },
    {
     "name": "stdout",
     "output_type": "stream",
     "text": [
      "Epoch 73/101, Loss: 1.2395, Time: 0,48s\n"
     ]
    },
    {
     "name": "stderr",
     "output_type": "stream",
     "text": [
      "100%|██████████| 11336/11336 [00:47<00:00, 238.62it/s]\n"
     ]
    },
    {
     "name": "stdout",
     "output_type": "stream",
     "text": [
      "Epoch 74/101, Loss: 1.1991, Time: 0,47s\n"
     ]
    },
    {
     "name": "stderr",
     "output_type": "stream",
     "text": [
      "100%|██████████| 11336/11336 [00:47<00:00, 238.59it/s]\n"
     ]
    },
    {
     "name": "stdout",
     "output_type": "stream",
     "text": [
      "Epoch 75/101, Loss: 1.1611, Time: 0,47s\n"
     ]
    },
    {
     "name": "stderr",
     "output_type": "stream",
     "text": [
      "100%|██████████| 11336/11336 [00:47<00:00, 239.06it/s]\n"
     ]
    },
    {
     "name": "stdout",
     "output_type": "stream",
     "text": [
      "Epoch 76/101, Loss: 1.1235, Time: 0,47s\n"
     ]
    },
    {
     "name": "stderr",
     "output_type": "stream",
     "text": [
      "100%|██████████| 11336/11336 [00:47<00:00, 241.04it/s]\n"
     ]
    },
    {
     "name": "stdout",
     "output_type": "stream",
     "text": [
      "Epoch 77/101, Loss: 1.0878, Time: 0,47s\n"
     ]
    },
    {
     "name": "stderr",
     "output_type": "stream",
     "text": [
      "100%|██████████| 11336/11336 [00:47<00:00, 238.82it/s]\n"
     ]
    },
    {
     "name": "stdout",
     "output_type": "stream",
     "text": [
      "Epoch 78/101, Loss: 1.0536, Time: 0,47s\n"
     ]
    },
    {
     "name": "stderr",
     "output_type": "stream",
     "text": [
      "100%|██████████| 11336/11336 [00:47<00:00, 240.64it/s]\n"
     ]
    },
    {
     "name": "stdout",
     "output_type": "stream",
     "text": [
      "Epoch 79/101, Loss: 1.0206, Time: 0,47s\n"
     ]
    },
    {
     "name": "stderr",
     "output_type": "stream",
     "text": [
      "100%|██████████| 11336/11336 [00:47<00:00, 241.00it/s]\n"
     ]
    },
    {
     "name": "stdout",
     "output_type": "stream",
     "text": [
      "Epoch 80/101, Loss: 0.9899, Time: 0,47s\n"
     ]
    },
    {
     "name": "stderr",
     "output_type": "stream",
     "text": [
      "100%|██████████| 11336/11336 [00:47<00:00, 237.25it/s]\n"
     ]
    },
    {
     "name": "stdout",
     "output_type": "stream",
     "text": [
      "Epoch 81/101, Loss: 0.9592, Time: 0,47s\n"
     ]
    },
    {
     "name": "stderr",
     "output_type": "stream",
     "text": [
      "100%|██████████| 11336/11336 [00:46<00:00, 241.28it/s]\n"
     ]
    },
    {
     "name": "stdout",
     "output_type": "stream",
     "text": [
      "Epoch 82/101, Loss: 0.9303, Time: 0,46s\n"
     ]
    },
    {
     "name": "stderr",
     "output_type": "stream",
     "text": [
      "100%|██████████| 11336/11336 [00:46<00:00, 241.63it/s]\n"
     ]
    },
    {
     "name": "stdout",
     "output_type": "stream",
     "text": [
      "Epoch 83/101, Loss: 0.9033, Time: 0,46s\n"
     ]
    },
    {
     "name": "stderr",
     "output_type": "stream",
     "text": [
      "100%|██████████| 11336/11336 [00:46<00:00, 242.18it/s]\n"
     ]
    },
    {
     "name": "stdout",
     "output_type": "stream",
     "text": [
      "Epoch 84/101, Loss: 0.8765, Time: 0,46s\n"
     ]
    },
    {
     "name": "stderr",
     "output_type": "stream",
     "text": [
      "100%|██████████| 11336/11336 [00:46<00:00, 242.23it/s]\n"
     ]
    },
    {
     "name": "stdout",
     "output_type": "stream",
     "text": [
      "Epoch 85/101, Loss: 0.8505, Time: 0,46s\n"
     ]
    },
    {
     "name": "stderr",
     "output_type": "stream",
     "text": [
      "100%|██████████| 11336/11336 [00:46<00:00, 242.08it/s]\n"
     ]
    },
    {
     "name": "stdout",
     "output_type": "stream",
     "text": [
      "Epoch 86/101, Loss: 0.8270, Time: 0,46s\n"
     ]
    },
    {
     "name": "stderr",
     "output_type": "stream",
     "text": [
      "100%|██████████| 11336/11336 [00:47<00:00, 240.59it/s]\n"
     ]
    },
    {
     "name": "stdout",
     "output_type": "stream",
     "text": [
      "Epoch 87/101, Loss: 0.8031, Time: 0,47s\n"
     ]
    },
    {
     "name": "stderr",
     "output_type": "stream",
     "text": [
      "100%|██████████| 11336/11336 [00:47<00:00, 240.17it/s]\n"
     ]
    },
    {
     "name": "stdout",
     "output_type": "stream",
     "text": [
      "Epoch 88/101, Loss: 0.7806, Time: 0,47s\n"
     ]
    },
    {
     "name": "stderr",
     "output_type": "stream",
     "text": [
      "100%|██████████| 11336/11336 [00:47<00:00, 240.14it/s]\n"
     ]
    },
    {
     "name": "stdout",
     "output_type": "stream",
     "text": [
      "Epoch 89/101, Loss: 0.7586, Time: 0,47s\n"
     ]
    },
    {
     "name": "stderr",
     "output_type": "stream",
     "text": [
      "100%|██████████| 11336/11336 [00:47<00:00, 238.18it/s]\n"
     ]
    },
    {
     "name": "stdout",
     "output_type": "stream",
     "text": [
      "Epoch 90/101, Loss: 0.7386, Time: 0,47s\n"
     ]
    },
    {
     "name": "stderr",
     "output_type": "stream",
     "text": [
      "100%|██████████| 11336/11336 [00:47<00:00, 239.64it/s]\n"
     ]
    },
    {
     "name": "stdout",
     "output_type": "stream",
     "text": [
      "Epoch 91/101, Loss: 0.7192, Time: 0,47s\n"
     ]
    },
    {
     "name": "stderr",
     "output_type": "stream",
     "text": [
      "100%|██████████| 11336/11336 [00:47<00:00, 239.65it/s]\n"
     ]
    },
    {
     "name": "stdout",
     "output_type": "stream",
     "text": [
      "Epoch 92/101, Loss: 0.6995, Time: 0,47s\n"
     ]
    },
    {
     "name": "stderr",
     "output_type": "stream",
     "text": [
      "100%|██████████| 11336/11336 [00:47<00:00, 237.98it/s]\n"
     ]
    },
    {
     "name": "stdout",
     "output_type": "stream",
     "text": [
      "Epoch 93/101, Loss: 0.6820, Time: 0,47s\n"
     ]
    },
    {
     "name": "stderr",
     "output_type": "stream",
     "text": [
      "100%|██████████| 11336/11336 [00:47<00:00, 239.98it/s]\n"
     ]
    },
    {
     "name": "stdout",
     "output_type": "stream",
     "text": [
      "Epoch 94/101, Loss: 0.6648, Time: 0,47s\n"
     ]
    },
    {
     "name": "stderr",
     "output_type": "stream",
     "text": [
      "100%|██████████| 11336/11336 [00:47<00:00, 238.58it/s]\n"
     ]
    },
    {
     "name": "stdout",
     "output_type": "stream",
     "text": [
      "Epoch 95/101, Loss: 0.6485, Time: 0,47s\n"
     ]
    },
    {
     "name": "stderr",
     "output_type": "stream",
     "text": [
      "100%|██████████| 11336/11336 [00:47<00:00, 239.60it/s]\n"
     ]
    },
    {
     "name": "stdout",
     "output_type": "stream",
     "text": [
      "Epoch 96/101, Loss: 0.6340, Time: 0,47s\n"
     ]
    },
    {
     "name": "stderr",
     "output_type": "stream",
     "text": [
      "100%|██████████| 11336/11336 [00:47<00:00, 239.49it/s]\n"
     ]
    },
    {
     "name": "stdout",
     "output_type": "stream",
     "text": [
      "Epoch 97/101, Loss: 0.6174, Time: 0,47s\n"
     ]
    },
    {
     "name": "stderr",
     "output_type": "stream",
     "text": [
      "100%|██████████| 11336/11336 [00:47<00:00, 238.63it/s]\n"
     ]
    },
    {
     "name": "stdout",
     "output_type": "stream",
     "text": [
      "Epoch 98/101, Loss: 0.6036, Time: 0,47s\n"
     ]
    },
    {
     "name": "stderr",
     "output_type": "stream",
     "text": [
      "100%|██████████| 11336/11336 [00:47<00:00, 240.59it/s]\n"
     ]
    },
    {
     "name": "stdout",
     "output_type": "stream",
     "text": [
      "Epoch 99/101, Loss: 0.5900, Time: 0,47s\n"
     ]
    },
    {
     "name": "stderr",
     "output_type": "stream",
     "text": [
      "100%|██████████| 11336/11336 [00:47<00:00, 240.16it/s]"
     ]
    },
    {
     "name": "stdout",
     "output_type": "stream",
     "text": [
      "Epoch 100/101, Loss: 0.5781, Time: 0,47s\n"
     ]
    },
    {
     "name": "stderr",
     "output_type": "stream",
     "text": [
      "\n"
     ]
    }
   ],
   "source": [
    "num_epochs=50\n",
    "for epoch in range(num_epochs):\n",
    "    start_time=time.time()\n",
    "    model.train()\n",
    "    running_loss=0.0\n",
    "    for inputs,labels in tqdm(dataLoader):\n",
    "        inputs,labels=inputs.to(device),labels.to(device)\n",
    "        optimizer.zero_grad()\n",
    "\n",
    "        outputs=model(inputs)\n",
    "        loss=criterion(outputs,labels)\n",
    "        loss.backward()\n",
    "\n",
    "        torch.nn.utils.clip_grad_norm_(model.parameters(),max_norm=1.0)\n",
    "        optimizer.step()\n",
    "        running_loss+=loss.item()\n",
    "    end_time=time.time()\n",
    "    epoch_time=end_time-start_time\n",
    "    minutes: int = int(epoch_time// 60)\n",
    "    seconds: int = int(epoch_time)-minutes*60\n",
    "    print(f'Epoch {epoch+1+50}/{num_epochs+1+50}, Loss: {running_loss/len(dataLoader):.4f}, Time: {minutes},{seconds}s')"
   ]
  },
  {
   "cell_type": "code",
   "execution_count": 12,
   "id": "2d86ef8e",
   "metadata": {},
   "outputs": [],
   "source": [
    "torch.save(model.state_dict(),\"../models/epoch100.pth\")"
   ]
  },
  {
   "cell_type": "code",
   "execution_count": 13,
   "id": "974183c3",
   "metadata": {},
   "outputs": [],
   "source": [
    "import pickle\n",
    "with open(\"../models/heavy_move_to_int\",\"wb\") as file:\n",
    "    pickle.dump(move_to_int,file)"
   ]
  },
  {
   "cell_type": "code",
   "execution_count": null,
   "id": "72186725",
   "metadata": {},
   "outputs": [],
   "source": []
  }
 ],
 "metadata": {
  "kernelspec": {
   "display_name": "jupyterEnv",
   "language": "python",
   "name": "python3"
  },
  "language_info": {
   "codemirror_mode": {
    "name": "ipython",
    "version": 3
   },
   "file_extension": ".py",
   "mimetype": "text/x-python",
   "name": "python",
   "nbconvert_exporter": "python",
   "pygments_lexer": "ipython3",
   "version": "3.13.3"
  }
 },
 "nbformat": 4,
 "nbformat_minor": 5
}
